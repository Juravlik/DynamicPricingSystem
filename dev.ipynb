{
 "cells": [
  {
   "cell_type": "code",
   "execution_count": 1,
   "metadata": {},
   "outputs": [],
   "source": [
    "import requests\n",
    "import pandas as pd\n",
    "import numpy as np\n",
    "import uuid\n",
    "from typing import List, Optional, Callable, Union\n",
    "from utils.utils import wait\n",
    "from app.app_handler import AppHandler\n",
    "from demand_models.lgbm_model import LGBMModel\n",
    "import json\n",
    "import lightgbm as lgb\n",
    "import os\n",
    "from sklearn.metrics import mean_absolute_error\n",
    "from price_models.canc_baseline_price import CancBaseline\n",
    "from utils.utils import wait\n",
    "\n",
    "import warnings\n",
    "warnings.filterwarnings(\"ignore\")"
   ]
  },
  {
   "cell_type": "code",
   "execution_count": 2,
   "metadata": {},
   "outputs": [],
   "source": [
    "with open('configs/app_config.json') as json_file:\n",
    "    config = json.load(json_file)"
   ]
  },
  {
   "cell_type": "code",
   "execution_count": 3,
   "metadata": {},
   "outputs": [],
   "source": [
    "# UUID = uuid.uuid4().hex\n",
    "# print(UUID)"
   ]
  },
  {
   "cell_type": "code",
   "execution_count": 4,
   "metadata": {},
   "outputs": [],
   "source": [
    "# !echo -n $UUID > uuid.txt"
   ]
  },
  {
   "cell_type": "code",
   "execution_count": 5,
   "metadata": {},
   "outputs": [
    {
     "data": {
      "text/plain": [
       "'2718520d4ae740d48cec08212f4a816d'"
      ]
     },
     "execution_count": 5,
     "metadata": {},
     "output_type": "execute_result"
    }
   ],
   "source": [
    "UUID = open('uuid.txt').read()\n",
    "UUID"
   ]
  },
  {
   "cell_type": "code",
   "execution_count": 6,
   "metadata": {},
   "outputs": [],
   "source": [
    "app_handler = AppHandler(uuid=UUID,\n",
    "                         url_begin='https://lab.karpov.courses/hardml-api/project-1/task/{}/begin'.format(UUID),\n",
    "                         url_task_data_get='https://lab.karpov.courses/hardml-api/project-1/task/{}/data'\\\n",
    "                         .format(UUID),\n",
    "                         url_task_result_get='https://lab.karpov.courses/hardml-api/project-1/task/{}/result'\\\n",
    "                         .format(UUID),\n",
    "                         url_task_result_post='https://lab.karpov.courses/hardml-api/project-1/task/{}/result/'\\\n",
    "                         .format(UUID),\n",
    "                         url_task_score_get='https://lab.karpov.courses/hardml-api/project-1/task/{}/lms_result'\\\n",
    "                         .format(UUID))"
   ]
  },
  {
   "cell_type": "code",
   "execution_count": 7,
   "metadata": {},
   "outputs": [],
   "source": [
    "df_canc = pd.read_csv(config['canc_path'])\n",
    "df_trans = pd.read_csv(config['transactions_path'])"
   ]
  },
  {
   "cell_type": "code",
   "execution_count": null,
   "metadata": {},
   "outputs": [],
   "source": []
  },
  {
   "cell_type": "markdown",
   "metadata": {},
   "source": [
    "# Baseline approach"
   ]
  },
  {
   "cell_type": "code",
   "execution_count": 12,
   "metadata": {},
   "outputs": [
    {
     "name": "stdout",
     "output_type": "stream",
     "text": [
      "Start working:\n",
      "{'status': 'ok'}\n",
      "Batch:  0 \t Score:  1097612 \t Diff. score:  1097612\n",
      "Batch:  1 \t Score:  2177620 \t Diff. score:  1080008\n",
      "Batch:  2 \t Score:  3296721 \t Diff. score:  1119101\n",
      "Batch:  3 \t Score:  4403339 \t Diff. score:  1106618\n",
      "Batch:  4 \t Score:  5540237 \t Diff. score:  1136898\n",
      "Batch:  5 \t Score:  6847434 \t Diff. score:  1307197\n",
      "Batch:  6 \t Score:  7960715 \t Diff. score:  1113281\n",
      "Batch:  7 \t Score:  9279443 \t Diff. score:  1318728\n",
      "Batch:  8 \t Score:  10289117 \t Diff. score:  1009674\n",
      "Batch:  9 \t Score:  11305067 \t Diff. score:  1015950\n",
      "Batch:  10 \t Score:  12466159 \t Diff. score:  1161092\n",
      "Batch:  11 \t Score:  13490753 \t Diff. score:  1024594\n",
      "Batch:  12 \t Score:  14637248 \t Diff. score:  1146495\n",
      "Batch:  13 \t Score:  15623033 \t Diff. score:  985785\n",
      "Batch:  14 \t Score:  16818586 \t Diff. score:  1195553\n",
      "Batch:  15 \t Score:  17844296 \t Diff. score:  1025710\n",
      "Batch:  16 \t Score:  18927735 \t Diff. score:  1083439\n",
      "Batch:  17 \t Score:  20397464 \t Diff. score:  1469729\n",
      "Batch:  18 \t Score:  21681998 \t Diff. score:  1284534\n",
      "Batch:  19 \t Score:  23490130 \t Diff. score:  1808132\n",
      "Batch:  20 \t Score:  25853686 \t Diff. score:  2363556\n",
      "Batch:  21 \t Score:  29507832 \t Diff. score:  3654146\n",
      "Batch:  22 \t Score:  35989750 \t Diff. score:  6481918\n",
      "Batch:  23 \t Score:  44846310 \t Diff. score:  8856560\n",
      "Batch:  24 \t Score:  55697155 \t Diff. score:  10850845\n",
      "Batch:  25 \t Score:  66953195 \t Diff. score:  11256040\n",
      "Batch:  26 \t Score:  78930192 \t Diff. score:  11976997\n",
      "Batch:  27 \t Score:  87122577 \t Diff. score:  8192385\n",
      "Batch:  28 \t Score:  92945783 \t Diff. score:  5823206\n",
      "Batch:  29 \t Score:  98725851 \t Diff. score:  5780068\n"
     ]
    }
   ],
   "source": [
    "canc_baseline_model = CancBaseline(strategy='min_related', coef=0.99)\n",
    "canc_baseline_model.fit(df_canc, df_trans)\n",
    "\n",
    "prev_score = 0\n",
    "\n",
    "for batch_idx in range(30):\n",
    "    if batch_idx == 0:\n",
    "        app_handler.start()\n",
    "    \n",
    "    wait(5)\n",
    "    \n",
    "    df_batch = app_handler.get_batch()\n",
    "    \n",
    "    wait(5)\n",
    "    \n",
    "    df_pred = canc_baseline_model.predict(df_batch.copy())\n",
    "    app_handler.send_batch_predictions(df_pred)\n",
    "    \n",
    "    wait(5)\n",
    "    \n",
    "    # df_batch_results = app_handler.get_batch_results()\n",
    "    cur_score = app_handler.get_current_score()\n",
    "    print('Batch: ', batch_idx, '\\t Score: ', cur_score, '\\t Diff. score: ', cur_score - prev_score)\n",
    "    \n",
    "    prev_score = cur_score"
   ]
  },
  {
   "cell_type": "code",
   "execution_count": 19,
   "metadata": {},
   "outputs": [
    {
     "data": {
      "text/plain": [
       "3432     10060\n",
       "3435     10121\n",
       "3442     10216\n",
       "3452     10230\n",
       "3465     10388\n",
       "         ...  \n",
       "12157    98842\n",
       "12169    99266\n",
       "12181    99310\n",
       "12199    99974\n",
       "12211    99996\n",
       "Name: SKU, Length: 826, dtype: int64"
      ]
     },
     "execution_count": 19,
     "metadata": {},
     "output_type": "execute_result"
    }
   ],
   "source": [
    "df = pd.read_csv('/home/juravlik/PycharmProjects/DynamicPricingSystem/data/raw/sales_plan.csv')\n"
   ]
  },
  {
   "cell_type": "code",
   "execution_count": null,
   "metadata": {},
   "outputs": [],
   "source": []
  },
  {
   "cell_type": "code",
   "execution_count": null,
   "metadata": {},
   "outputs": [],
   "source": [
    "# "
   ]
  }
 ],
 "metadata": {
  "kernelspec": {
   "display_name": "DynamicPricingSystem",
   "language": "python",
   "name": "dynamicpricingsystem"
  },
  "language_info": {
   "codemirror_mode": {
    "name": "ipython",
    "version": 3
   },
   "file_extension": ".py",
   "mimetype": "text/x-python",
   "name": "python",
   "nbconvert_exporter": "python",
   "pygments_lexer": "ipython3",
   "version": "3.8.13"
  }
 },
 "nbformat": 4,
 "nbformat_minor": 2
}
